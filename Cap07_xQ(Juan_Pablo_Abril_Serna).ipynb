{
  "nbformat": 4,
  "nbformat_minor": 0,
  "metadata": {
    "colab": {
      "provenance": []
    },
    "kernelspec": {
      "name": "python3",
      "display_name": "Python 3"
    },
    "language_info": {
      "name": "python"
    }
  },
  "cells": [
    {
      "cell_type": "markdown",
      "source": [
        "# Quiz Capítulo 7\n",
        "\n",
        "* **Juan Pablo Abril Serna**"
      ],
      "metadata": {
        "id": "kSAVCYWjdRtB"
      }
    },
    {
      "cell_type": "markdown",
      "source": [
        "## Pregunta 1.\n",
        "\n",
        "¿Cuál de las siguientes afirmaciones sobre la minería de textos es incorrecta?\n"
      ],
      "metadata": {
        "id": "aUMUWox2dXeh"
      }
    },
    {
      "cell_type": "markdown",
      "source": [
        "1. Puedes conocer la reacción ante un grupo específico.\n",
        "2. Se puede obtener información sobre clientes potenciales de ventas.\n",
        "3. Se pueden establecer estrategias competitivas monitoreando otras marcas.\n",
        "4. El mismo método se puede aplicar a varios idiomas.\n"
      ],
      "metadata": {
        "id": "TOD_t6-hdqmV"
      }
    },
    {
      "cell_type": "markdown",
      "source": [
        "<font color=red>[Respuesta]</font>\n",
        "<h3>La afirmación incorrecta es la 4</h3>\n",
        "<h3>Debido a que cada idioma es diferente y habría que ajustar el método para cada uno, no se puede usar el mismo método que usamos en español a coreano o chino, debido a que cada uno tiene una sintaxis diferente</h3>\n"
      ],
      "metadata": {
        "id": "K6KikeW0dvH9"
      }
    },
    {
      "cell_type": "markdown",
      "source": [
        "## Pregunta 2.\n",
        "\n",
        "¿Cuál de las siguientes afirmaciones `no` es cierta sobre el uso de las redes sociales?\n"
      ],
      "metadata": {
        "id": "B6hbQUywd86e"
      }
    },
    {
      "cell_type": "markdown",
      "source": [
        "1. Es posible saber de cuántos grupos está compuesta la red.\n",
        "2. Es posible conocer clientes influyentes.\n",
        "3. Es posible saber ver el cambio a lo largo del tiempo.\n",
        "4. Es posible saber si los clientes se irán la próxima vez."
      ],
      "metadata": {
        "id": "nNL_EvqVeF1t"
      }
    },
    {
      "cell_type": "markdown",
      "source": [
        "<font color=red>[Respuesta]</font>\n",
        "\n",
        "<h3>La afirmación que no es cierta es la 4</h3>\n",
        "<h3>Debido a que no se puede saber a ciencia cierta cuando un cliente se irá, si es posible reconocer patrones y comportamientos que indique que se va a ir, generando una señal de advertencia, puesto que existen muchisimas variables incluso variables externas</h3>"
      ],
      "metadata": {
        "id": "EIjxSlhieK-M"
      }
    },
    {
      "cell_type": "markdown",
      "source": [
        "## Pregunta 3.\n",
        "\n",
        "¿Qué término significa separar una raíz de una palabra cuya forma ha sido modificada para extraer la palabra que es objeto de análisis de morfema?\n"
      ],
      "metadata": {
        "id": "KcngqUeLeNE8"
      }
    },
    {
      "cell_type": "markdown",
      "source": [
        "<font color=red>[Respuesta]</font>\n",
        "<h3>El término es Lematización, en inglés Lemmatization </h3>"
      ],
      "metadata": {
        "id": "euA5S0VXehf7"
      }
    },
    {
      "cell_type": "markdown",
      "source": [
        "## Pregunta 4.\n",
        "\n",
        "¿Qué término se le da al conjunto de materiales que pueden mostrar los aspectos esenciales del lenguaje como material de investigación requerido en cada campo de la investigación del lenguaje?\n"
      ],
      "metadata": {
        "id": "qAHSL5HwesWz"
      }
    },
    {
      "cell_type": "markdown",
      "source": [
        "<font color=red>[Respuesta]</font>\n",
        "\n",
        "<h3>El término es Corpus</h3>"
      ],
      "metadata": {
        "id": "3xu8rvmMe7Lh"
      }
    },
    {
      "cell_type": "markdown",
      "source": [
        "## Pregunta 5.\n",
        "\n",
        "Explique sobre TF (frecuencia de términos) y escriba cómo calcular TF (fórmula).\n"
      ],
      "metadata": {
        "id": "WCaGK3hoe-UE"
      }
    },
    {
      "cell_type": "markdown",
      "source": [
        "<font color=red>[Respuesta]</font>\n",
        "\n",
        "<h3>La frecuencia de términos es la medida que cuantifica la importancia de una palabra clave dentro de un documento, identifica la frecuencia con la que aparece la palabra clave en el documento en relación con el número total de palabras del documento, se calcula como:</h3>\n",
        "<h3> TF = (Número de veces que aparece la palabra clave) / (Número total de palabras del documento)\n",
        "</h3>"
      ],
      "metadata": {
        "id": "2nimkhTBfJPv"
      }
    },
    {
      "cell_type": "markdown",
      "source": [
        "## Pregunta 6.\n",
        "\n",
        "Encuentra la declaración más similar usando TF-IDF y similitud de coseno con referencia al siguiente código."
      ],
      "metadata": {
        "id": "_5jgY26QgZ9Q"
      }
    },
    {
      "cell_type": "code",
      "source": [],
      "metadata": {
        "id": "oJ_WI8p4LWgg"
      },
      "execution_count": null,
      "outputs": []
    },
    {
      "cell_type": "code",
      "source": [
        "import nltk\n",
        "import numpy as np\n",
        "from nltk.corpus import stopwords\n",
        "from sklearn.feature_extraction.text import TfidfVectorizer\n",
        "from sklearn.metrics import pairwise_distances"
      ],
      "metadata": {
        "id": "fi2MnLHFg1-3"
      },
      "execution_count": null,
      "outputs": []
    },
    {
      "cell_type": "code",
      "source": [
        "nltk.download('stopwords')"
      ],
      "metadata": {
        "id": "Lr0_aTpzhrDX",
        "colab": {
          "base_uri": "https://localhost:8080/"
        },
        "outputId": "a23026b9-419d-48e3-f4d2-d58129b87dd3"
      },
      "execution_count": null,
      "outputs": [
        {
          "output_type": "stream",
          "name": "stderr",
          "text": [
            "[nltk_data] Downloading package stopwords to /root/nltk_data...\n",
            "[nltk_data]   Unzipping corpora/stopwords.zip.\n"
          ]
        },
        {
          "output_type": "execute_result",
          "data": {
            "text/plain": [
              "True"
            ]
          },
          "metadata": {},
          "execution_count": 2
        }
      ]
    },
    {
      "cell_type": "code",
      "source": [
        "doc = [\n",
        "    \"AI is a rapidly advancing field that involves the development of intelligent machines.\",\n",
        "    \"Machine learning is a subset of AI that focuses on training machines to learn from data.\",\n",
        "    \"Deep learning is a subfield of machine learning that utilizes neural networks with multiple layers.\",\n",
        "    \"AI applications are found in various industries, including healthcare, transportation, and entertainment.\",\n",
        "    \"Ethical consideration plays an important role in AI development.\",\n",
        "    \"AI has the potential to revolutionize many aspects of society.\",\n",
        "    \"AI systems such as chatbots and virtual assistants are becoming more common.\",\n",
        "    \"Natural language processing is a branch of AI that allows machines to understand human language.\",\n",
        "    \"The field of computer vision aims to enable machines to understand visual information.\",\n",
        "]"
      ],
      "metadata": {
        "id": "ExsEyuDMg47w"
      },
      "execution_count": null,
      "outputs": []
    },
    {
      "cell_type": "code",
      "execution_count": null,
      "metadata": {
        "id": "1cdSf8EcdPG4"
      },
      "outputs": [],
      "source": [
        "# pre-processing.\n",
        "doc = [x.lower() for x in doc]\n",
        "\n",
        "# parameters\n",
        "max_features = 18\n",
        "min_df = 1\n",
        "max_df = 3\n",
        "stop_words = stopwords.words('english')\n",
        "\n",
        "vectorizer = TfidfVectorizer(max_features=max_features,\n",
        "                             min_df=min_df,\n",
        "                             max_df=max_df,\n",
        "                             stop_words=stop_words)\n",
        "X = vectorizer.fit_transform(doc).toarray()"
      ]
    },
    {
      "cell_type": "markdown",
      "source": [
        "<font color=red>[Respuesta]</font>"
      ],
      "metadata": {
        "id": "4koW3n5fhBma"
      }
    },
    {
      "cell_type": "code",
      "source": [
        "# se selecciona la referencia\n",
        "reference_idx = 0\n",
        "reference_vector = X[reference_idx]"
      ],
      "metadata": {
        "id": "ECtzO3nSiLP6"
      },
      "execution_count": null,
      "outputs": []
    },
    {
      "cell_type": "markdown",
      "source": [
        "Se debe importar cosine_similarity de  sklearn.metrics.pairwise"
      ],
      "metadata": {
        "id": "FuLqPtCiMlTO"
      }
    },
    {
      "cell_type": "code",
      "source": [
        "from sklearn.metrics.pairwise import cosine_similarity"
      ],
      "metadata": {
        "id": "fRqXhpaTiK8O"
      },
      "execution_count": null,
      "outputs": []
    },
    {
      "cell_type": "markdown",
      "source": [
        "Se vuelve a ejecutar"
      ],
      "metadata": {
        "id": "Q_g36DNJMvCN"
      }
    },
    {
      "cell_type": "code",
      "source": [
        "# Se cálcula las similitudes de coseno entre el vector de referencia y todos los demás\n",
        "similitudes = cosine_similarity([reference_vector], X).flatten()\n"
      ],
      "metadata": {
        "id": "ch_1bEpkMt-V"
      },
      "execution_count": null,
      "outputs": []
    },
    {
      "cell_type": "code",
      "source": [
        "# Se encuentra el índice del documento más similar (excluyendo la referencia misma)\n",
        "most_similar_idx = np.argsort(similitudes)[-2]"
      ],
      "metadata": {
        "id": "six2_Cz4M1-a"
      },
      "execution_count": null,
      "outputs": []
    },
    {
      "cell_type": "code",
      "source": [
        "# Se muestra el documento más similar\n",
        "print(\"Referencia:\", doc[reference_idx])\n",
        "print(\"Documento más similar:\", doc[most_similar_idx])\n",
        "print(\"Similitud del coseno:\", similitudes[most_similar_idx])"
      ],
      "metadata": {
        "colab": {
          "base_uri": "https://localhost:8080/"
        },
        "id": "u8dH6EjuNICX",
        "outputId": "d326001f-5b3c-41f2-bc78-07788b34783f"
      },
      "execution_count": null,
      "outputs": [
        {
          "output_type": "stream",
          "name": "stdout",
          "text": [
            "Referencia: ai is a rapidly advancing field that involves the development of intelligent machines.\n",
            "Documento más similar: the field of computer vision aims to enable machines to understand visual information.\n",
            "Similitud del coseno: 0.5000000000000001\n"
          ]
        }
      ]
    }
  ]
}